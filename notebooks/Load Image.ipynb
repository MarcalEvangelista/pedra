{
 "cells": [
  {
   "cell_type": "markdown",
   "id": "13889d15-d57f-44fd-a045-dbc3ef5ce213",
   "metadata": {},
   "source": [
    "# Example of loading a FITS image with PEDRA and performing basic operations\n",
    "\n",
    "In this notebook, we will:\n",
    "  - Open a fits image from a telescope\n",
    "  - Check some image properties and header\n",
    "  - View the image\n",
    "  - trim, rebin and normalize"
   ]
  },
  {
   "cell_type": "code",
   "execution_count": 1,
   "id": "e40406ba-c17e-425e-9ebf-3900234f4b8a",
   "metadata": {},
   "outputs": [
    {
     "name": "stderr",
     "output_type": "stream",
     "text": [
      "/home/mario/local/anaconda3/lib/python3.9/site-packages/scipy/__init__.py:146: UserWarning: A NumPy version >=1.16.5 and <1.23.0 is required for this version of SciPy (detected version 1.26.4\n",
      "  warnings.warn(f\"A NumPy version >={np_minversion} and <{np_maxversion}\"\n"
     ]
    }
   ],
   "source": [
    "import pedra"
   ]
  },
  {
   "cell_type": "markdown",
   "id": "7a368b6d-cd7b-41dc-9b15-f924dc28c40f",
   "metadata": {},
   "source": [
    "## Loading a fits image\n",
    "\n",
    "The FITS structure mus be specified as follows:"
   ]
  },
  {
   "cell_type": "code",
   "execution_count": 2,
   "id": "81d5f511-775b-4d79-ad7e-d053326ff873",
   "metadata": {},
   "outputs": [
    {
     "data": {
      "text/plain": [
       "\u001b[0;31mSignature:\u001b[0m\n",
       "\u001b[0mpedra\u001b[0m\u001b[0;34m.\u001b[0m\u001b[0mloadimage\u001b[0m\u001b[0;34m(\u001b[0m\u001b[0;34m\u001b[0m\n",
       "\u001b[0;34m\u001b[0m    \u001b[0mimgfile\u001b[0m\u001b[0;34m,\u001b[0m\u001b[0;34m\u001b[0m\n",
       "\u001b[0;34m\u001b[0m    \u001b[0mdata_ext\u001b[0m\u001b[0;34m=\u001b[0m\u001b[0;36m0\u001b[0m\u001b[0;34m,\u001b[0m\u001b[0;34m\u001b[0m\n",
       "\u001b[0;34m\u001b[0m    \u001b[0mheader_ext\u001b[0m\u001b[0;34m=\u001b[0m\u001b[0;36m0\u001b[0m\u001b[0;34m,\u001b[0m\u001b[0;34m\u001b[0m\n",
       "\u001b[0;34m\u001b[0m    \u001b[0mwcs_ext\u001b[0m\u001b[0;34m=\u001b[0m\u001b[0;32mNone\u001b[0m\u001b[0;34m,\u001b[0m\u001b[0;34m\u001b[0m\n",
       "\u001b[0;34m\u001b[0m    \u001b[0merr_ext\u001b[0m\u001b[0;34m=\u001b[0m\u001b[0;32mNone\u001b[0m\u001b[0;34m,\u001b[0m\u001b[0;34m\u001b[0m\n",
       "\u001b[0;34m\u001b[0m    \u001b[0mmask\u001b[0m\u001b[0;34m=\u001b[0m\u001b[0;32mNone\u001b[0m\u001b[0;34m,\u001b[0m\u001b[0;34m\u001b[0m\n",
       "\u001b[0;34m\u001b[0m    \u001b[0mlabel\u001b[0m\u001b[0;34m=\u001b[0m\u001b[0;32mNone\u001b[0m\u001b[0;34m,\u001b[0m\u001b[0;34m\u001b[0m\n",
       "\u001b[0;34m\u001b[0m    \u001b[0;34m**\u001b[0m\u001b[0mkwargs\u001b[0m\u001b[0;34m,\u001b[0m\u001b[0;34m\u001b[0m\n",
       "\u001b[0;34m\u001b[0m\u001b[0;34m)\u001b[0m\u001b[0;34m\u001b[0m\u001b[0;34m\u001b[0m\u001b[0m\n",
       "\u001b[0;31mDocstring:\u001b[0m\n",
       "Load Image from file. \n",
       "\n",
       "Parameters\n",
       "----------\n",
       "imgfile: string\n",
       "    Image file path.\n",
       "\n",
       "data_ext: int \n",
       "    Fits file extention for image data. \n",
       "    Default is 0. \n",
       "\n",
       "header_ext: int \n",
       "    Fits file extention for header info. \n",
       "    Default is 0. \n",
       "     \n",
       "wcs_ext: None or int (Optional)\n",
       "    Fits file extention for WCS info. \n",
       "    Default is None, which is for when WCS is not specified in the header.\n",
       "    \n",
       "err_ext: None or int (Optional)\n",
       "    Fits file extention for WCS info. \n",
       "    Default is None, which will not get an error array.\n",
       "    \n",
       "mask: None or np.ndarray (Optional)\n",
       "    Boolean numpy array for masking pixels in the image.\n",
       "    Shape must be equal to data. Default is None.\n",
       "\n",
       "label: string (Optional)\n",
       "    Image label. If not specified will get the base filename as label. \n",
       "\n",
       "**kwargs: Accepts kwargs for Astropy.io.fits.open\n",
       "\n",
       "Returns\n",
       "-------\n",
       "PEDRA Image Object.    \n",
       "\u001b[0;31mFile:\u001b[0m      ~/local/anaconda3/lib/python3.9/site-packages/pedra/core.py\n",
       "\u001b[0;31mType:\u001b[0m      function\n"
      ]
     },
     "metadata": {},
     "output_type": "display_data"
    }
   ],
   "source": [
    "pedra.loadimage?"
   ]
  },
  {
   "cell_type": "markdown",
   "id": "db22894f-2ae3-42a1-9d9d-e6feeff1b400",
   "metadata": {},
   "source": [
    "Also specify the file path"
   ]
  },
  {
   "cell_type": "code",
   "execution_count": 3,
   "id": "f703bafc-2010-4f83-b783-f1e488fd6c7c",
   "metadata": {},
   "outputs": [],
   "source": [
    "img = pedra.loadimage('../../../qh/hst/data/2009-WN87/F625W/ieca20dkq_drz.fits', \n",
    "                      data_ext=1, hdr_ext=0, wcs_ext=1, err_ext=2)"
   ]
  },
  {
   "cell_type": "markdown",
   "id": "d3fe9aa3-8ca5-4524-9603-6ae0811129c4",
   "metadata": {},
   "source": [
    "### Some image properties"
   ]
  },
  {
   "cell_type": "code",
   "execution_count": 4,
   "id": "452a0fc5-c811-4b0a-a2de-d6e5ddec645c",
   "metadata": {},
   "outputs": [
    {
     "data": {
      "text/plain": [
       "Image label: ieca20dkq_drz.fits \n",
       " Shape: (1087, 1030) \n",
       " WCS: True \n",
       " Error array: True \n",
       " Mask: False "
      ]
     },
     "execution_count": 4,
     "metadata": {},
     "output_type": "execute_result"
    }
   ],
   "source": [
    "# Basic image info\n",
    "img"
   ]
  },
  {
   "cell_type": "code",
   "execution_count": 5,
   "id": "fbd97597-e48f-40e9-b039-cfc1e8938715",
   "metadata": {},
   "outputs": [
    {
     "data": {
      "text/plain": [
       "(543, 515)"
      ]
     },
     "execution_count": 5,
     "metadata": {},
     "output_type": "execute_result"
    }
   ],
   "source": [
    "# Center Pixel\n",
    "# X, Y\n",
    "img.centerpixel"
   ]
  },
  {
   "cell_type": "code",
   "execution_count": 6,
   "id": "c7c28ad4-8c3b-4d84-8704-1bba0081fe76",
   "metadata": {},
   "outputs": [
    {
     "data": {
      "text/plain": [
       "(236.49007594093166, -24.228436713934805)"
      ]
     },
     "execution_count": 6,
     "metadata": {},
     "output_type": "execute_result"
    }
   ],
   "source": [
    "# Center Coordinates (from WCS)\n",
    "# RA, Dec\n",
    "img.centercoords"
   ]
  },
  {
   "cell_type": "markdown",
   "id": "edab4e4a-a269-4444-9a7b-48ad23f1e98c",
   "metadata": {},
   "source": [
    "### Checking Image Header"
   ]
  },
  {
   "cell_type": "code",
   "execution_count": 21,
   "id": "2678a783-d1fe-4d1f-bd1c-0526f54bd517",
   "metadata": {},
   "outputs": [
    {
     "name": "stderr",
     "output_type": "stream",
     "text": [
      "invalid command name \"131700614378176<lambda>\"\n",
      "    while executing\n",
      "\"131700614378176<lambda>\"\n",
      "    (\"after\" script)\n"
     ]
    }
   ],
   "source": [
    "# Display full header\n",
    "img.hdr_window()\n",
    "# or img.hdr to simply diplay here"
   ]
  },
  {
   "cell_type": "code",
   "execution_count": 29,
   "id": "6b69a2e2-ec4a-42e3-ad2e-5e38d42cab46",
   "metadata": {},
   "outputs": [
    {
     "name": "stdout",
     "output_type": "stream",
     "text": [
      "Target: 2009-WN87\n",
      "RA: 236.4901566138, DEC: -24.22800917879\n",
      "Date of Observation: 2021-07-31, Exposure Time: 110.0\n"
     ]
    }
   ],
   "source": [
    "# Get some Header value\n",
    "print(f\"Target: {img.hdr['TARGNAME']}\")\n",
    "print(f\"RA: {img.hdr['RA_TARG']}, DEC: {img.hdr['DEC_TARG']}\")\n",
    "print(f\"Date of Observation: {img.hdr['DATE-OBS']}, Exposure Time: {img.hdr['EXPTIME']}\")\n"
   ]
  },
  {
   "cell_type": "markdown",
   "id": "cac2db0b-c72e-4daa-a31f-0395eaf06352",
   "metadata": {},
   "source": [
    "# Viewing image"
   ]
  },
  {
   "cell_type": "code",
   "execution_count": 30,
   "id": "3951a4f8-c904-47a4-a48a-1008a7a2a44e",
   "metadata": {},
   "outputs": [
    {
     "name": "stdout",
     "output_type": "stream",
     "text": [
      "-28.602019300018682 28.79600099987146\n"
     ]
    },
    {
     "data": {
      "text/plain": [
       "<matplotlib.image.AxesImage at 0x77c7f000c160>"
      ]
     },
     "execution_count": 30,
     "metadata": {},
     "output_type": "execute_result"
    },
    {
     "data": {
      "image/png": "[encoded data removed]",
      "text/plain": [
       "<Figure size 432x288 with 1 Axes>"
      ]
     },
     "metadata": {
      "needs_background": "light"
     },
     "output_type": "display_data"
    }
   ],
   "source": [
    "img.view()"
   ]
  },
  {
   "cell_type": "code",
   "execution_count": null,
   "id": "28d2dbaf-8c24-4751-9d86-c8d2af732111",
   "metadata": {},
   "outputs": [],
   "source": []
  }
 ],
 "metadata": {
  "kernelspec": {
   "display_name": "Python 3 (ipykernel)",
   "language": "python",
   "name": "python3"
  },
  "language_info": {
   "codemirror_mode": {
    "name": "ipython",
    "version": 3
   },
   "file_extension": ".py",
   "mimetype": "text/x-python",
   "name": "python",
   "nbconvert_exporter": "python",
   "pygments_lexer": "ipython3",
   "version": "3.9.18"
  }
 },
 "nbformat": 4,
 "nbformat_minor": 5
}
